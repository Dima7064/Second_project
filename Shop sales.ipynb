{
 "cells": [
  {
   "cell_type": "markdown",
   "id": "64fa876e-44f3-4088-9466-fc21b0fcc243",
   "metadata": {},
   "source": [
    "!!! Код выполняет все те же пункты, что в PostgreSQL. Но теперь решение через Pandas !!!"
   ]
  },
  {
   "cell_type": "markdown",
   "id": "753a7eae-7404-439c-b14a-df8dbe3e4fff",
   "metadata": {},
   "source": [
    "Задачи работы:\n",
    "\n",
    "1. Медианный чек, средняя прибыль на заказ. Круговая диаграмма распределения продаж по подкатегориям\n",
    "2. Топ-5 самых продаваемых и прибыльных товаров. Bar plot топ-5 товаров по продажам\n",
    "3. Корреляция между количеством товаров, стоимостью и прибылью.\n",
    "\n",
    "Информация про конкретную страну в 2018 году: Германия\n",
    "\n",
    "1. Продажи и прибыль по городам. Выявление наиболее и наименее прибыльных городов\n",
    "2. Топ-3 самые прибыльные подкатегории. Топ-5 самых прибыльных городов для каждой такой подкатегории (по 5 городов для каждой подкатегории)\n",
    "3. Самые популярные города по каждому виду доставки (по два города)\n",
    "4. Самый прибыльный месяц. Самый прибыльный город этого месяца и самая прибыльная подкатегория этого города\n",
    "5. В каком сегменте покупателей наиболее распространена доставка типа \"Economy\"\n",
    "6. Какие категории товаров дают самых ценных потребителей? Какие группы клиентов приносят наибольшую прибыль? \n",
    "7. Выводы работы"
   ]
  },
  {
   "cell_type": "markdown",
   "id": "755d9225-f9e3-4f6c-8d31-a5cca3409236",
   "metadata": {},
   "source": [
    "Пояснения к таблице:\n",
    "\n",
    "Order ID -> ID заказа\n",
    "\n",
    "Order Date -> Дата заказа\n",
    "\n",
    "Customer Name -> Имя клиента\n",
    "\n",
    "City -> Город\n",
    "\n",
    "Country -> Страна\n",
    "\n",
    "State -> Штат\n",
    "\n",
    "Region -> Регион\n",
    "\n",
    "Segment -> Сегмент потребителей\n",
    "\n",
    "Category -> Категория\n",
    "\n",
    "Ship Mode -> Режим отправки заказа\n",
    "\n",
    "Sub-Category -> Подкатегория\n",
    "\n",
    "Product Name -> Название продукта\n",
    "\n",
    "Quantity -> Количество проданного товара\n",
    "\n",
    "Cost -> Затраты на производство Quantity-товаров\n",
    "\n",
    "Profit -> Прибыль с продажи Quantity-товаров (Sales - Cost)\n",
    "\n",
    "Sales -> Выручка с продажи Quantity-товаров (Profit + Cost)"
   ]
  },
  {
   "cell_type": "code",
   "execution_count": 3,
   "id": "be4372ad-546c-41cd-b0bc-74714dd683e6",
   "metadata": {},
   "outputs": [
    {
     "data": {
      "text/html": [
       "<div>\n",
       "<style scoped>\n",
       "    .dataframe tbody tr th:only-of-type {\n",
       "        vertical-align: middle;\n",
       "    }\n",
       "\n",
       "    .dataframe tbody tr th {\n",
       "        vertical-align: top;\n",
       "    }\n",
       "\n",
       "    .dataframe thead th {\n",
       "        text-align: right;\n",
       "    }\n",
       "</style>\n",
       "<table border=\"1\" class=\"dataframe\">\n",
       "  <thead>\n",
       "    <tr style=\"text-align: right;\">\n",
       "      <th></th>\n",
       "      <th>Order Date</th>\n",
       "      <th>Customer Name</th>\n",
       "      <th>City</th>\n",
       "      <th>Country</th>\n",
       "      <th>State</th>\n",
       "      <th>Region</th>\n",
       "      <th>Segment</th>\n",
       "      <th>Category</th>\n",
       "      <th>Ship Mode</th>\n",
       "      <th>Sub-Category</th>\n",
       "      <th>Product Name</th>\n",
       "      <th>Quantity</th>\n",
       "      <th>Cost</th>\n",
       "      <th>Profit</th>\n",
       "      <th>Sales</th>\n",
       "    </tr>\n",
       "    <tr>\n",
       "      <th>Order ID</th>\n",
       "      <th></th>\n",
       "      <th></th>\n",
       "      <th></th>\n",
       "      <th></th>\n",
       "      <th></th>\n",
       "      <th></th>\n",
       "      <th></th>\n",
       "      <th></th>\n",
       "      <th></th>\n",
       "      <th></th>\n",
       "      <th></th>\n",
       "      <th></th>\n",
       "      <th></th>\n",
       "      <th></th>\n",
       "      <th></th>\n",
       "    </tr>\n",
       "  </thead>\n",
       "  <tbody>\n",
       "    <tr>\n",
       "      <th>1</th>\n",
       "      <td>2017-01-01</td>\n",
       "      <td>Ruby Patel</td>\n",
       "      <td>Stockholm</td>\n",
       "      <td>Sweden</td>\n",
       "      <td>Stockholm</td>\n",
       "      <td>North</td>\n",
       "      <td>Home Office</td>\n",
       "      <td>Office Supplies</td>\n",
       "      <td>Economy Plus</td>\n",
       "      <td>Paper</td>\n",
       "      <td>Enermax Note Cards, Premium</td>\n",
       "      <td>3</td>\n",
       "      <td>9</td>\n",
       "      <td>36</td>\n",
       "      <td>45</td>\n",
       "    </tr>\n",
       "    <tr>\n",
       "      <th>2</th>\n",
       "      <td>2017-01-03</td>\n",
       "      <td>Summer Hayward</td>\n",
       "      <td>Southport</td>\n",
       "      <td>United Kingdom</td>\n",
       "      <td>England</td>\n",
       "      <td>North</td>\n",
       "      <td>Consumer</td>\n",
       "      <td>Furniture</td>\n",
       "      <td>Economy</td>\n",
       "      <td>Bookcases</td>\n",
       "      <td>Dania Corner Shelving, Traditional</td>\n",
       "      <td>7</td>\n",
       "      <td>255</td>\n",
       "      <td>599</td>\n",
       "      <td>854</td>\n",
       "    </tr>\n",
       "    <tr>\n",
       "      <th>3</th>\n",
       "      <td>2017-01-04</td>\n",
       "      <td>Devin Huddleston</td>\n",
       "      <td>Valence</td>\n",
       "      <td>France</td>\n",
       "      <td>Auvergne-Rhône-Alpes</td>\n",
       "      <td>Central</td>\n",
       "      <td>Consumer</td>\n",
       "      <td>Office Supplies</td>\n",
       "      <td>Economy</td>\n",
       "      <td>Art</td>\n",
       "      <td>Binney &amp; Smith Sketch Pad, Easy-Erase</td>\n",
       "      <td>3</td>\n",
       "      <td>48</td>\n",
       "      <td>92</td>\n",
       "      <td>140</td>\n",
       "    </tr>\n",
       "    <tr>\n",
       "      <th>4</th>\n",
       "      <td>2017-01-04</td>\n",
       "      <td>Mary Parker</td>\n",
       "      <td>Birmingham</td>\n",
       "      <td>United Kingdom</td>\n",
       "      <td>England</td>\n",
       "      <td>North</td>\n",
       "      <td>Corporate</td>\n",
       "      <td>Office Supplies</td>\n",
       "      <td>Economy</td>\n",
       "      <td>Art</td>\n",
       "      <td>Boston Markers, Easy-Erase</td>\n",
       "      <td>2</td>\n",
       "      <td>9</td>\n",
       "      <td>18</td>\n",
       "      <td>27</td>\n",
       "    </tr>\n",
       "    <tr>\n",
       "      <th>5</th>\n",
       "      <td>2017-01-05</td>\n",
       "      <td>Daniel Burke</td>\n",
       "      <td>Echirolles</td>\n",
       "      <td>France</td>\n",
       "      <td>Auvergne-Rhône-Alpes</td>\n",
       "      <td>Central</td>\n",
       "      <td>Home Office</td>\n",
       "      <td>Office Supplies</td>\n",
       "      <td>Priority</td>\n",
       "      <td>Art</td>\n",
       "      <td>Binney &amp; Smith Pencil Sharpener, Water Color</td>\n",
       "      <td>3</td>\n",
       "      <td>40</td>\n",
       "      <td>50</td>\n",
       "      <td>90</td>\n",
       "    </tr>\n",
       "  </tbody>\n",
       "</table>\n",
       "</div>"
      ],
      "text/plain": [
       "         Order Date     Customer Name        City         Country  \\\n",
       "Order ID                                                            \n",
       "1        2017-01-01        Ruby Patel   Stockholm          Sweden   \n",
       "2        2017-01-03    Summer Hayward   Southport  United Kingdom   \n",
       "3        2017-01-04  Devin Huddleston     Valence          France   \n",
       "4        2017-01-04       Mary Parker  Birmingham  United Kingdom   \n",
       "5        2017-01-05      Daniel Burke  Echirolles          France   \n",
       "\n",
       "                         State   Region      Segment         Category  \\\n",
       "Order ID                                                                \n",
       "1                    Stockholm    North  Home Office  Office Supplies   \n",
       "2                      England    North     Consumer        Furniture   \n",
       "3         Auvergne-Rhône-Alpes  Central     Consumer  Office Supplies   \n",
       "4                      England    North    Corporate  Office Supplies   \n",
       "5         Auvergne-Rhône-Alpes  Central  Home Office  Office Supplies   \n",
       "\n",
       "             Ship Mode Sub-Category  \\\n",
       "Order ID                              \n",
       "1         Economy Plus        Paper   \n",
       "2              Economy    Bookcases   \n",
       "3              Economy          Art   \n",
       "4              Economy          Art   \n",
       "5             Priority          Art   \n",
       "\n",
       "                                          Product Name  Quantity  Cost  \\\n",
       "Order ID                                                                 \n",
       "1                          Enermax Note Cards, Premium         3     9   \n",
       "2                   Dania Corner Shelving, Traditional         7   255   \n",
       "3                Binney & Smith Sketch Pad, Easy-Erase         3    48   \n",
       "4                           Boston Markers, Easy-Erase         2     9   \n",
       "5         Binney & Smith Pencil Sharpener, Water Color         3    40   \n",
       "\n",
       "          Profit  Sales  \n",
       "Order ID                 \n",
       "1             36     45  \n",
       "2            599    854  \n",
       "3             92    140  \n",
       "4             18     27  \n",
       "5             50     90  "
      ]
     },
     "execution_count": 3,
     "metadata": {},
     "output_type": "execute_result"
    }
   ],
   "source": [
    "import pandas as pd\n",
    "shop = pd.read_csv(r\"C:\\Dima\\Резюме-программы\\Kaggle\\Shop Direct Sale Data For Research.csv\", index_col = 'Order ID', parse_dates = ['Order Date'])\n",
    "shop.head()"
   ]
  },
  {
   "cell_type": "markdown",
   "id": "3945acb7-3669-48da-8e81-16169e08484a",
   "metadata": {},
   "source": [
    "1. Медианный чек, средняя прибыль на заказ. Круговая диаграмма распределения продаж по подкатегориям"
   ]
  },
  {
   "cell_type": "code",
   "execution_count": 5,
   "id": "64441422-15b5-4ea8-98c1-d8aae822abe8",
   "metadata": {},
   "outputs": [
    {
     "data": {
      "text/plain": [
       "120.0"
      ]
     },
     "execution_count": 5,
     "metadata": {},
     "output_type": "execute_result"
    }
   ],
   "source": [
    "# Медианный чек\n",
    "shop['Sales'].median()"
   ]
  },
  {
   "cell_type": "code",
   "execution_count": 6,
   "id": "7d7b371f-1501-4022-81b8-8202267605c3",
   "metadata": {},
   "outputs": [
    {
     "data": {
      "text/plain": [
       "152.36"
      ]
     },
     "execution_count": 6,
     "metadata": {},
     "output_type": "execute_result"
    }
   ],
   "source": [
    "# средняя прибыль на заказ\n",
    "round(shop['Profit'].mean(), 2)"
   ]
  },
  {
   "cell_type": "code",
   "execution_count": 7,
   "id": "dcd8f498-5cf9-46aa-9cf7-aee39d401e95",
   "metadata": {},
   "outputs": [
    {
     "data": {
      "image/png": "[encoded data removed]",
      "text/plain": [
       "<Figure size 1000x800 with 1 Axes>"
      ]
     },
     "metadata": {},
     "output_type": "display_data"
    }
   ],
   "source": [
    "import matplotlib.pyplot as plt\n",
    "import seaborn as sns\n",
    "\n",
    "pie_data = shop[['Quantity', 'Sub-Category']].groupby('Sub-Category').sum().reset_index()\n",
    "plt.figure(figsize=(10, 8))\n",
    "\n",
    "plt.pie(\n",
    "    pie_data['Quantity'],\n",
    "    labels=pie_data['Sub-Category'],\n",
    "    autopct='%1.1f%%',\n",
    "    startangle=90,\n",
    "    colors=sns.color_palette('viridis', len(pie_data)),\n",
    "    wedgeprops={'linewidth': 1, 'edgecolor': 'white'}\n",
    ")\n",
    "\n",
    "plt.title('Распределение продаж по категориям', fontsize=16, pad=20)\n",
    "\n",
    "plt.axis('equal')\n",
    "\n",
    "plt.tight_layout()\n",
    "plt.show()"
   ]
  },
  {
   "cell_type": "markdown",
   "id": "0e626670-36b1-46e5-90a2-22b16f7d5574",
   "metadata": {},
   "source": [
    "2. Топ-5 самых продаваемых и прибыльных товаров. Bar plot топ-5 товаров по продажам"
   ]
  },
  {
   "cell_type": "code",
   "execution_count": 9,
   "id": "e6704e75-1472-4f9d-89c9-cab03e63c7fb",
   "metadata": {},
   "outputs": [
    {
     "data": {
      "text/html": [
       "<div>\n",
       "<style scoped>\n",
       "    .dataframe tbody tr th:only-of-type {\n",
       "        vertical-align: middle;\n",
       "    }\n",
       "\n",
       "    .dataframe tbody tr th {\n",
       "        vertical-align: top;\n",
       "    }\n",
       "\n",
       "    .dataframe thead th {\n",
       "        text-align: right;\n",
       "    }\n",
       "</style>\n",
       "<table border=\"1\" class=\"dataframe\">\n",
       "  <thead>\n",
       "    <tr style=\"text-align: right;\">\n",
       "      <th></th>\n",
       "      <th>Quantity</th>\n",
       "      <th>Profit</th>\n",
       "    </tr>\n",
       "    <tr>\n",
       "      <th>Sub-Category</th>\n",
       "      <th></th>\n",
       "      <th></th>\n",
       "    </tr>\n",
       "  </thead>\n",
       "  <tbody>\n",
       "    <tr>\n",
       "      <th>Art</th>\n",
       "      <td>2834</td>\n",
       "      <td>41302</td>\n",
       "    </tr>\n",
       "    <tr>\n",
       "      <th>Binders</th>\n",
       "      <td>2007</td>\n",
       "      <td>19661</td>\n",
       "    </tr>\n",
       "    <tr>\n",
       "      <th>Bookcases</th>\n",
       "      <td>1313</td>\n",
       "      <td>132297</td>\n",
       "    </tr>\n",
       "    <tr>\n",
       "      <th>Storage</th>\n",
       "      <td>1313</td>\n",
       "      <td>45363</td>\n",
       "    </tr>\n",
       "    <tr>\n",
       "      <th>Chairs</th>\n",
       "      <td>1279</td>\n",
       "      <td>79924</td>\n",
       "    </tr>\n",
       "  </tbody>\n",
       "</table>\n",
       "</div>"
      ],
      "text/plain": [
       "              Quantity  Profit\n",
       "Sub-Category                  \n",
       "Art               2834   41302\n",
       "Binders           2007   19661\n",
       "Bookcases         1313  132297\n",
       "Storage           1313   45363\n",
       "Chairs            1279   79924"
      ]
     },
     "execution_count": 9,
     "metadata": {},
     "output_type": "execute_result"
    }
   ],
   "source": [
    "# Топ-5 самых продаваемых\n",
    "shop.groupby('Sub-Category')[['Quantity', 'Profit']].sum().sort_values('Quantity', ascending=False).head()"
   ]
  },
  {
   "cell_type": "code",
   "execution_count": 10,
   "id": "5425a920-2914-49cb-9286-f5fa141d558f",
   "metadata": {},
   "outputs": [
    {
     "data": {
      "text/html": [
       "<div>\n",
       "<style scoped>\n",
       "    .dataframe tbody tr th:only-of-type {\n",
       "        vertical-align: middle;\n",
       "    }\n",
       "\n",
       "    .dataframe tbody tr th {\n",
       "        vertical-align: top;\n",
       "    }\n",
       "\n",
       "    .dataframe thead th {\n",
       "        text-align: right;\n",
       "    }\n",
       "</style>\n",
       "<table border=\"1\" class=\"dataframe\">\n",
       "  <thead>\n",
       "    <tr style=\"text-align: right;\">\n",
       "      <th></th>\n",
       "      <th>Quantity</th>\n",
       "      <th>Profit</th>\n",
       "    </tr>\n",
       "    <tr>\n",
       "      <th>Sub-Category</th>\n",
       "      <th></th>\n",
       "      <th></th>\n",
       "    </tr>\n",
       "  </thead>\n",
       "  <tbody>\n",
       "    <tr>\n",
       "      <th>Bookcases</th>\n",
       "      <td>1313</td>\n",
       "      <td>132297</td>\n",
       "    </tr>\n",
       "    <tr>\n",
       "      <th>Chairs</th>\n",
       "      <td>1279</td>\n",
       "      <td>79924</td>\n",
       "    </tr>\n",
       "    <tr>\n",
       "      <th>Appliances</th>\n",
       "      <td>657</td>\n",
       "      <td>77656</td>\n",
       "    </tr>\n",
       "    <tr>\n",
       "      <th>Copiers</th>\n",
       "      <td>434</td>\n",
       "      <td>46238</td>\n",
       "    </tr>\n",
       "    <tr>\n",
       "      <th>Storage</th>\n",
       "      <td>1313</td>\n",
       "      <td>45363</td>\n",
       "    </tr>\n",
       "  </tbody>\n",
       "</table>\n",
       "</div>"
      ],
      "text/plain": [
       "              Quantity  Profit\n",
       "Sub-Category                  \n",
       "Bookcases         1313  132297\n",
       "Chairs            1279   79924\n",
       "Appliances         657   77656\n",
       "Copiers            434   46238\n",
       "Storage           1313   45363"
      ]
     },
     "execution_count": 10,
     "metadata": {},
     "output_type": "execute_result"
    }
   ],
   "source": [
    "# Топ-5 самых прибыльных\n",
    "shop.groupby('Sub-Category')[['Quantity', 'Profit']].sum().sort_values('Profit', ascending=False).head()"
   ]
  },
  {
   "cell_type": "code",
   "execution_count": 60,
   "id": "2e460c9d-0c71-4332-a965-5b304c06ac15",
   "metadata": {},
   "outputs": [
    {
     "data": {
      "image/png": "[encoded data removed]",
      "text/plain": [
       "<Figure size 1000x600 with 1 Axes>"
      ]
     },
     "metadata": {},
     "output_type": "display_data"
    }
   ],
   "source": [
    "import seaborn as sns\n",
    "import matplotlib.pyplot as plt\n",
    "import pandas as pd\n",
    "\n",
    "top_products = (shop.groupby('Sub-Category')['Quantity'].sum().sort_values(ascending=False).head().reset_index())\n",
    "\n",
    "plt.figure(figsize=(10, 6))\n",
    "\n",
    "# Строим barplot\n",
    "bar_plot = sns.barplot(\n",
    "    data=top_products,\n",
    "    x='Sub-Category',\n",
    "    y='Quantity',\n",
    "    palette='viridis',\n",
    "    hue='Sub-Category',\n",
    "    dodge=False,\n",
    "    legend=False\n",
    ")\n",
    "\n",
    "for p in bar_plot.patches:\n",
    "    bar_plot.annotate(\n",
    "        f'${p.get_height():,.0f}',\n",
    "        (p.get_x() + p.get_width() / 2., p.get_height()),\n",
    "        ha='center', va='center',\n",
    "        xytext=(0, 10),\n",
    "        textcoords='offset points',\n",
    "        fontsize=10\n",
    "    )\n",
    "\n",
    "plt.title('Топ-5 подкатегорий товаров по объёму продаж', fontsize=14, pad=20)\n",
    "plt.xlabel('Подкатегория товара')\n",
    "plt.ylabel('Объём продаж ($)')\n",
    "plt.xticks(rotation=45)\n",
    "sns.despine()\n",
    "\n",
    "plt.gca().yaxis.set_major_formatter('${x:,.0f}')\n",
    "\n",
    "plt.tight_layout()\n",
    "plt.show()"
   ]
  },
  {
   "cell_type": "markdown",
   "id": "8dd9143d-f613-46d3-98a6-10b575ecbf70",
   "metadata": {},
   "source": [
    "3. Корреляция между количеством проданных товаров, себестоимостью и прибылью."
   ]
  },
  {
   "cell_type": "markdown",
   "id": "13cf7cfa-c7bb-42e2-bd2a-551b3fd95a21",
   "metadata": {},
   "source": [
    "Вывод по корреляциям:\n",
    "\n",
    "Общая стоимость и себестоимость: 0.85. Это означает, что с ростом выручки обычно увеличиваются и затраты. Чем больше продаёшь, тем больше тратишь на производство товаров.\n",
    "\n",
    "Общая стоимость и прибыль: 0.82. Чем выше выручка, тем выше прибыль.\n",
    "\n",
    "Себестоимость и прибыль: 0.38. Это говорит о том, что рост затрат не всегда ведёт к пропорциональному росту прибыли.\n",
    "\n",
    "Возможные причины: \n",
    "1) Непостоянная наценка (например, в некоторых случаях высокая себестоимость съедает прибыль).\n",
    "\n",
    "2) Разные категории товаров по маржинальности"
   ]
  },
  {
   "cell_type": "code",
   "execution_count": 14,
   "id": "358713f2-ae99-4535-b230-bf98a06f5423",
   "metadata": {},
   "outputs": [
    {
     "data": {
      "text/html": [
       "<div>\n",
       "<style scoped>\n",
       "    .dataframe tbody tr th:only-of-type {\n",
       "        vertical-align: middle;\n",
       "    }\n",
       "\n",
       "    .dataframe tbody tr th {\n",
       "        vertical-align: top;\n",
       "    }\n",
       "\n",
       "    .dataframe thead th {\n",
       "        text-align: right;\n",
       "    }\n",
       "</style>\n",
       "<table border=\"1\" class=\"dataframe\">\n",
       "  <thead>\n",
       "    <tr style=\"text-align: right;\">\n",
       "      <th></th>\n",
       "      <th>Sales</th>\n",
       "      <th>Cost</th>\n",
       "      <th>Profit</th>\n",
       "    </tr>\n",
       "  </thead>\n",
       "  <tbody>\n",
       "    <tr>\n",
       "      <th>Sales</th>\n",
       "      <td>1.000000</td>\n",
       "      <td>0.845776</td>\n",
       "      <td>0.816786</td>\n",
       "    </tr>\n",
       "    <tr>\n",
       "      <th>Cost</th>\n",
       "      <td>0.845776</td>\n",
       "      <td>1.000000</td>\n",
       "      <td>0.382999</td>\n",
       "    </tr>\n",
       "    <tr>\n",
       "      <th>Profit</th>\n",
       "      <td>0.816786</td>\n",
       "      <td>0.382999</td>\n",
       "      <td>1.000000</td>\n",
       "    </tr>\n",
       "  </tbody>\n",
       "</table>\n",
       "</div>"
      ],
      "text/plain": [
       "           Sales      Cost    Profit\n",
       "Sales   1.000000  0.845776  0.816786\n",
       "Cost    0.845776  1.000000  0.382999\n",
       "Profit  0.816786  0.382999  1.000000"
      ]
     },
     "execution_count": 14,
     "metadata": {},
     "output_type": "execute_result"
    }
   ],
   "source": [
    "shop[['Sales', 'Cost', 'Profit']].corr()"
   ]
  },
  {
   "cell_type": "markdown",
   "id": "e7c0331c-e8ea-4548-844c-b99de65bf950",
   "metadata": {},
   "source": [
    "Информация про конкретную страну в 2018 году: Германия"
   ]
  },
  {
   "cell_type": "markdown",
   "id": "eaee58cb-4083-4fe7-a34c-a8896e7f6137",
   "metadata": {},
   "source": [
    "1. Продажи и прибыль по городам. Выявление наиболее и наименее прибыльных городов"
   ]
  },
  {
   "cell_type": "code",
   "execution_count": 17,
   "id": "d142d8c3-d926-42a8-9869-1f98e4c4bdeb",
   "metadata": {},
   "outputs": [
    {
     "data": {
      "text/html": [
       "<div>\n",
       "<style scoped>\n",
       "    .dataframe tbody tr th:only-of-type {\n",
       "        vertical-align: middle;\n",
       "    }\n",
       "\n",
       "    .dataframe tbody tr th {\n",
       "        vertical-align: top;\n",
       "    }\n",
       "\n",
       "    .dataframe thead th {\n",
       "        text-align: right;\n",
       "    }\n",
       "</style>\n",
       "<table border=\"1\" class=\"dataframe\">\n",
       "  <thead>\n",
       "    <tr style=\"text-align: right;\">\n",
       "      <th></th>\n",
       "      <th>Quantity</th>\n",
       "      <th>Profit</th>\n",
       "    </tr>\n",
       "    <tr>\n",
       "      <th>City</th>\n",
       "      <th></th>\n",
       "      <th></th>\n",
       "    </tr>\n",
       "  </thead>\n",
       "  <tbody>\n",
       "    <tr>\n",
       "      <th>Berlin</th>\n",
       "      <td>93</td>\n",
       "      <td>5651</td>\n",
       "    </tr>\n",
       "    <tr>\n",
       "      <th>Hamburg</th>\n",
       "      <td>29</td>\n",
       "      <td>2663</td>\n",
       "    </tr>\n",
       "    <tr>\n",
       "      <th>Nuremberg</th>\n",
       "      <td>6</td>\n",
       "      <td>2433</td>\n",
       "    </tr>\n",
       "    <tr>\n",
       "      <th>Munich</th>\n",
       "      <td>45</td>\n",
       "      <td>1818</td>\n",
       "    </tr>\n",
       "    <tr>\n",
       "      <th>Bochum</th>\n",
       "      <td>19</td>\n",
       "      <td>1732</td>\n",
       "    </tr>\n",
       "  </tbody>\n",
       "</table>\n",
       "</div>"
      ],
      "text/plain": [
       "           Quantity  Profit\n",
       "City                       \n",
       "Berlin           93    5651\n",
       "Hamburg          29    2663\n",
       "Nuremberg         6    2433\n",
       "Munich           45    1818\n",
       "Bochum           19    1732"
      ]
     },
     "execution_count": 17,
     "metadata": {},
     "output_type": "execute_result"
    }
   ],
   "source": [
    "trade = shop[(shop['Country'] == \"Germany\") & (shop['Order Date'].dt.year == 2018)]\n",
    "# Самые прибыльные\n",
    "trade.groupby('City')[['Quantity','Profit']].sum().sort_values('Profit', ascending = False).head()"
   ]
  },
  {
   "cell_type": "code",
   "execution_count": 18,
   "id": "7988fb7d-a5da-40b6-9d0a-f5c33a2a9a7e",
   "metadata": {},
   "outputs": [
    {
     "data": {
      "text/html": [
       "<div>\n",
       "<style scoped>\n",
       "    .dataframe tbody tr th:only-of-type {\n",
       "        vertical-align: middle;\n",
       "    }\n",
       "\n",
       "    .dataframe tbody tr th {\n",
       "        vertical-align: top;\n",
       "    }\n",
       "\n",
       "    .dataframe thead th {\n",
       "        text-align: right;\n",
       "    }\n",
       "</style>\n",
       "<table border=\"1\" class=\"dataframe\">\n",
       "  <thead>\n",
       "    <tr style=\"text-align: right;\">\n",
       "      <th></th>\n",
       "      <th>Quantity</th>\n",
       "      <th>Profit</th>\n",
       "    </tr>\n",
       "    <tr>\n",
       "      <th>City</th>\n",
       "      <th></th>\n",
       "      <th></th>\n",
       "    </tr>\n",
       "  </thead>\n",
       "  <tbody>\n",
       "    <tr>\n",
       "      <th>Dresden</th>\n",
       "      <td>2</td>\n",
       "      <td>1</td>\n",
       "    </tr>\n",
       "    <tr>\n",
       "      <th>Hildesheim</th>\n",
       "      <td>3</td>\n",
       "      <td>2</td>\n",
       "    </tr>\n",
       "    <tr>\n",
       "      <th>Augsburg</th>\n",
       "      <td>3</td>\n",
       "      <td>4</td>\n",
       "    </tr>\n",
       "    <tr>\n",
       "      <th>Remscheid</th>\n",
       "      <td>5</td>\n",
       "      <td>5</td>\n",
       "    </tr>\n",
       "    <tr>\n",
       "      <th>Ennigerloh</th>\n",
       "      <td>2</td>\n",
       "      <td>8</td>\n",
       "    </tr>\n",
       "  </tbody>\n",
       "</table>\n",
       "</div>"
      ],
      "text/plain": [
       "            Quantity  Profit\n",
       "City                        \n",
       "Dresden            2       1\n",
       "Hildesheim         3       2\n",
       "Augsburg           3       4\n",
       "Remscheid          5       5\n",
       "Ennigerloh         2       8"
      ]
     },
     "execution_count": 18,
     "metadata": {},
     "output_type": "execute_result"
    }
   ],
   "source": [
    "# Менее прибыльные\n",
    "trade.groupby('City')[['Quantity','Profit']].sum().sort_values('Profit').head()"
   ]
  },
  {
   "cell_type": "markdown",
   "id": "2480e390-310c-4d26-836c-385daa732908",
   "metadata": {},
   "source": [
    "2. Топ-3 самые прибыльные подкатегории. Топ-5 самых прибыльных городов для каждой такой подкатегории (по 5 городов для каждой подкатегории)"
   ]
  },
  {
   "cell_type": "code",
   "execution_count": 20,
   "id": "18f91ebc-fc5e-411f-a5ab-4a331c9722f0",
   "metadata": {},
   "outputs": [
    {
     "data": {
      "text/html": [
       "<div>\n",
       "<style scoped>\n",
       "    .dataframe tbody tr th:only-of-type {\n",
       "        vertical-align: middle;\n",
       "    }\n",
       "\n",
       "    .dataframe tbody tr th {\n",
       "        vertical-align: top;\n",
       "    }\n",
       "\n",
       "    .dataframe thead th {\n",
       "        text-align: right;\n",
       "    }\n",
       "</style>\n",
       "<table border=\"1\" class=\"dataframe\">\n",
       "  <thead>\n",
       "    <tr style=\"text-align: right;\">\n",
       "      <th></th>\n",
       "      <th>Sub-Category</th>\n",
       "      <th>Profit</th>\n",
       "    </tr>\n",
       "  </thead>\n",
       "  <tbody>\n",
       "    <tr>\n",
       "      <th>4</th>\n",
       "      <td>Bookcases</td>\n",
       "      <td>7077</td>\n",
       "    </tr>\n",
       "    <tr>\n",
       "      <th>5</th>\n",
       "      <td>Chairs</td>\n",
       "      <td>5740</td>\n",
       "    </tr>\n",
       "    <tr>\n",
       "      <th>13</th>\n",
       "      <td>Phones</td>\n",
       "      <td>4104</td>\n",
       "    </tr>\n",
       "  </tbody>\n",
       "</table>\n",
       "</div>"
      ],
      "text/plain": [
       "   Sub-Category  Profit\n",
       "4     Bookcases    7077\n",
       "5        Chairs    5740\n",
       "13       Phones    4104"
      ]
     },
     "execution_count": 20,
     "metadata": {},
     "output_type": "execute_result"
    }
   ],
   "source": [
    "top_sub_category = shop[(shop['Country'] == \"Germany\") & (shop['Order Date'].dt.year == 2018)][['Sub-Category', 'Profit']]\n",
    "top_sub_category = top_sub_category.groupby('Sub-Category')['Profit'].sum().reset_index().sort_values('Profit', ascending=False).head(3)\n",
    "top_sub_category"
   ]
  },
  {
   "cell_type": "code",
   "execution_count": 62,
   "id": "13862172-865f-4773-abe4-80c9bc001ad0",
   "metadata": {},
   "outputs": [
    {
     "data": {
      "text/html": [
       "<div>\n",
       "<style scoped>\n",
       "    .dataframe tbody tr th:only-of-type {\n",
       "        vertical-align: middle;\n",
       "    }\n",
       "\n",
       "    .dataframe tbody tr th {\n",
       "        vertical-align: top;\n",
       "    }\n",
       "\n",
       "    .dataframe thead th {\n",
       "        text-align: right;\n",
       "    }\n",
       "</style>\n",
       "<table border=\"1\" class=\"dataframe\">\n",
       "  <thead>\n",
       "    <tr style=\"text-align: right;\">\n",
       "      <th></th>\n",
       "      <th>City</th>\n",
       "      <th>Profit_y</th>\n",
       "    </tr>\n",
       "    <tr>\n",
       "      <th>Sub-Category</th>\n",
       "      <th></th>\n",
       "      <th></th>\n",
       "    </tr>\n",
       "  </thead>\n",
       "  <tbody>\n",
       "    <tr>\n",
       "      <th>Bookcases</th>\n",
       "      <td>Hamburg</td>\n",
       "      <td>2213</td>\n",
       "    </tr>\n",
       "    <tr>\n",
       "      <th>Bookcases</th>\n",
       "      <td>Bochum</td>\n",
       "      <td>1546</td>\n",
       "    </tr>\n",
       "    <tr>\n",
       "      <th>Bookcases</th>\n",
       "      <td>Dortmund</td>\n",
       "      <td>665</td>\n",
       "    </tr>\n",
       "    <tr>\n",
       "      <th>Bookcases</th>\n",
       "      <td>Dorsten</td>\n",
       "      <td>628</td>\n",
       "    </tr>\n",
       "    <tr>\n",
       "      <th>Bookcases</th>\n",
       "      <td>Munich</td>\n",
       "      <td>596</td>\n",
       "    </tr>\n",
       "    <tr>\n",
       "      <th>Chairs</th>\n",
       "      <td>Berlin</td>\n",
       "      <td>1850</td>\n",
       "    </tr>\n",
       "    <tr>\n",
       "      <th>Chairs</th>\n",
       "      <td>Emden</td>\n",
       "      <td>922</td>\n",
       "    </tr>\n",
       "    <tr>\n",
       "      <th>Chairs</th>\n",
       "      <td>Oberhausen</td>\n",
       "      <td>669</td>\n",
       "    </tr>\n",
       "    <tr>\n",
       "      <th>Chairs</th>\n",
       "      <td>Erfurt</td>\n",
       "      <td>414</td>\n",
       "    </tr>\n",
       "    <tr>\n",
       "      <th>Chairs</th>\n",
       "      <td>Bayreuth</td>\n",
       "      <td>378</td>\n",
       "    </tr>\n",
       "    <tr>\n",
       "      <th>Phones</th>\n",
       "      <td>Berlin</td>\n",
       "      <td>2465</td>\n",
       "    </tr>\n",
       "    <tr>\n",
       "      <th>Phones</th>\n",
       "      <td>Weimar</td>\n",
       "      <td>1299</td>\n",
       "    </tr>\n",
       "    <tr>\n",
       "      <th>Phones</th>\n",
       "      <td>Karlsruhe</td>\n",
       "      <td>298</td>\n",
       "    </tr>\n",
       "    <tr>\n",
       "      <th>Phones</th>\n",
       "      <td>Munich</td>\n",
       "      <td>42</td>\n",
       "    </tr>\n",
       "  </tbody>\n",
       "</table>\n",
       "</div>"
      ],
      "text/plain": [
       "                    City  Profit_y\n",
       "Sub-Category                      \n",
       "Bookcases        Hamburg      2213\n",
       "Bookcases         Bochum      1546\n",
       "Bookcases       Dortmund       665\n",
       "Bookcases        Dorsten       628\n",
       "Bookcases         Munich       596\n",
       "Chairs            Berlin      1850\n",
       "Chairs             Emden       922\n",
       "Chairs        Oberhausen       669\n",
       "Chairs            Erfurt       414\n",
       "Chairs          Bayreuth       378\n",
       "Phones            Berlin      2465\n",
       "Phones            Weimar      1299\n",
       "Phones         Karlsruhe       298\n",
       "Phones            Munich        42"
      ]
     },
     "execution_count": 62,
     "metadata": {},
     "output_type": "execute_result"
    }
   ],
   "source": [
    "top_city = top_sub_category.merge(shop, on = 'Sub-Category', how = 'inner').sort_values('Profit_x', ascending=False)\n",
    "top_city = top_city[(top_city['Country'] == \"Germany\") & (top_city['Order Date'].dt.year == 2018)]\n",
    "\n",
    "grouped = top_city.groupby(['Sub-Category', 'City']).agg({'Profit_y': 'sum'}).reset_index()\n",
    "sorted_groups = grouped.sort_values(['Sub-Category', 'Profit_y'], ascending=[True, False])\n",
    "top_5_cities = sorted_groups.groupby('Sub-Category').head()\n",
    "top_5_cities.set_index('Sub-Category')"
   ]
  },
  {
   "cell_type": "markdown",
   "id": "3c4dbbc5-97fe-4ca1-9c96-fd18fa082389",
   "metadata": {},
   "source": [
    "3. Самые популярные города по каждому виду доставки (по два города)"
   ]
  },
  {
   "cell_type": "code",
   "execution_count": 23,
   "id": "5d787733-4488-43c6-8410-72aea3ca0156",
   "metadata": {},
   "outputs": [
    {
     "data": {
      "text/html": [
       "<div>\n",
       "<style scoped>\n",
       "    .dataframe tbody tr th:only-of-type {\n",
       "        vertical-align: middle;\n",
       "    }\n",
       "\n",
       "    .dataframe tbody tr th {\n",
       "        vertical-align: top;\n",
       "    }\n",
       "\n",
       "    .dataframe thead th {\n",
       "        text-align: right;\n",
       "    }\n",
       "</style>\n",
       "<table border=\"1\" class=\"dataframe\">\n",
       "  <thead>\n",
       "    <tr style=\"text-align: right;\">\n",
       "      <th></th>\n",
       "      <th>Ship Mode</th>\n",
       "      <th>City</th>\n",
       "      <th>count</th>\n",
       "    </tr>\n",
       "  </thead>\n",
       "  <tbody>\n",
       "    <tr>\n",
       "      <th>0</th>\n",
       "      <td>Economy</td>\n",
       "      <td>Berlin</td>\n",
       "      <td>15</td>\n",
       "    </tr>\n",
       "    <tr>\n",
       "      <th>1</th>\n",
       "      <td>Economy</td>\n",
       "      <td>Munich</td>\n",
       "      <td>9</td>\n",
       "    </tr>\n",
       "    <tr>\n",
       "      <th>2</th>\n",
       "      <td>Economy Plus</td>\n",
       "      <td>Berlin</td>\n",
       "      <td>6</td>\n",
       "    </tr>\n",
       "    <tr>\n",
       "      <th>4</th>\n",
       "      <td>Economy Plus</td>\n",
       "      <td>Jena</td>\n",
       "      <td>2</td>\n",
       "    </tr>\n",
       "    <tr>\n",
       "      <th>5</th>\n",
       "      <td>Immediate</td>\n",
       "      <td>Dormagen</td>\n",
       "      <td>1</td>\n",
       "    </tr>\n",
       "    <tr>\n",
       "      <th>6</th>\n",
       "      <td>Immediate</td>\n",
       "      <td>Bochum</td>\n",
       "      <td>1</td>\n",
       "    </tr>\n",
       "    <tr>\n",
       "      <th>3</th>\n",
       "      <td>Priority</td>\n",
       "      <td>Munich</td>\n",
       "      <td>3</td>\n",
       "    </tr>\n",
       "    <tr>\n",
       "      <th>7</th>\n",
       "      <td>Priority</td>\n",
       "      <td>Weimar</td>\n",
       "      <td>1</td>\n",
       "    </tr>\n",
       "  </tbody>\n",
       "</table>\n",
       "</div>"
      ],
      "text/plain": [
       "      Ship Mode      City  count\n",
       "0       Economy    Berlin     15\n",
       "1       Economy    Munich      9\n",
       "2  Economy Plus    Berlin      6\n",
       "4  Economy Plus      Jena      2\n",
       "5     Immediate  Dormagen      1\n",
       "6     Immediate    Bochum      1\n",
       "3      Priority    Munich      3\n",
       "7      Priority    Weimar      1"
      ]
     },
     "execution_count": 23,
     "metadata": {},
     "output_type": "execute_result"
    }
   ],
   "source": [
    "germany = shop[(shop['Country'] == \"Germany\") & (shop['Order Date'].dt.year == 2018)]\n",
    "top_city = germany.value_counts(['Ship Mode', 'City']).groupby(level=0).head(2).reset_index()\n",
    "top_city.sort_values('Ship Mode') # Сколько раз встречался тот или иной город"
   ]
  },
  {
   "cell_type": "markdown",
   "id": "dfab5861-d8bb-4f18-9b2e-98f2c75007bb",
   "metadata": {},
   "source": [
    "4. Самый прибыльный месяц. Самый прибыльный город этого месяца и самая прибыльная подкатегория этого города"
   ]
  },
  {
   "cell_type": "code",
   "execution_count": 25,
   "id": "bb29a680-3360-4720-b9c5-6811be3b9e81",
   "metadata": {},
   "outputs": [
    {
     "data": {
      "text/html": [
       "<div>\n",
       "<style scoped>\n",
       "    .dataframe tbody tr th:only-of-type {\n",
       "        vertical-align: middle;\n",
       "    }\n",
       "\n",
       "    .dataframe tbody tr th {\n",
       "        vertical-align: top;\n",
       "    }\n",
       "\n",
       "    .dataframe thead th {\n",
       "        text-align: right;\n",
       "    }\n",
       "</style>\n",
       "<table border=\"1\" class=\"dataframe\">\n",
       "  <thead>\n",
       "    <tr style=\"text-align: right;\">\n",
       "      <th></th>\n",
       "      <th>Order Date</th>\n",
       "      <th>Profit</th>\n",
       "    </tr>\n",
       "  </thead>\n",
       "  <tbody>\n",
       "    <tr>\n",
       "      <th>0</th>\n",
       "      <td>8</td>\n",
       "      <td>7303</td>\n",
       "    </tr>\n",
       "  </tbody>\n",
       "</table>\n",
       "</div>"
      ],
      "text/plain": [
       "   Order Date  Profit\n",
       "0           8    7303"
      ]
     },
     "execution_count": 25,
     "metadata": {},
     "output_type": "execute_result"
    }
   ],
   "source": [
    "germany = shop[(shop['Country'] == \"Germany\") & (shop['Order Date'].dt.year == 2018)].copy()\n",
    "germany['Order Date'] = germany['Order Date'].dt.month\n",
    "top_month = germany.groupby('Order Date')['Profit'].sum().sort_values(ascending=False).head(1).reset_index() # 8 месяц = Август\n",
    "top_month # Самый прибыльный месяц"
   ]
  },
  {
   "cell_type": "code",
   "execution_count": 26,
   "id": "9266a430-ed64-4aa9-847c-4f6e61ba595d",
   "metadata": {},
   "outputs": [
    {
     "data": {
      "text/html": [
       "<div>\n",
       "<style scoped>\n",
       "    .dataframe tbody tr th:only-of-type {\n",
       "        vertical-align: middle;\n",
       "    }\n",
       "\n",
       "    .dataframe tbody tr th {\n",
       "        vertical-align: top;\n",
       "    }\n",
       "\n",
       "    .dataframe thead th {\n",
       "        text-align: right;\n",
       "    }\n",
       "</style>\n",
       "<table border=\"1\" class=\"dataframe\">\n",
       "  <thead>\n",
       "    <tr style=\"text-align: right;\">\n",
       "      <th></th>\n",
       "      <th>City</th>\n",
       "      <th>Profit_y</th>\n",
       "    </tr>\n",
       "  </thead>\n",
       "  <tbody>\n",
       "    <tr>\n",
       "      <th>0</th>\n",
       "      <td>Nuremberg</td>\n",
       "      <td>2406</td>\n",
       "    </tr>\n",
       "  </tbody>\n",
       "</table>\n",
       "</div>"
      ],
      "text/plain": [
       "        City  Profit_y\n",
       "0  Nuremberg      2406"
      ]
     },
     "execution_count": 26,
     "metadata": {},
     "output_type": "execute_result"
    }
   ],
   "source": [
    "germany = shop[(shop['Country'] == \"Germany\") & (shop['Order Date'].dt.year == 2018)].copy()\n",
    "germany['Order Date'] = germany['Order Date'].dt.month\n",
    "\n",
    "top_months = top_month.merge(germany, on = 'Order Date', how = 'inner')\n",
    "top_city = top_months.groupby('City')['Profit_y'].sum().sort_values(ascending=False).head(1).reset_index()\n",
    "top_city # Самый прибыльный город этого месяца"
   ]
  },
  {
   "cell_type": "code",
   "execution_count": 27,
   "id": "71d4e4fe-56e3-4de4-a24f-b023d2cd0e28",
   "metadata": {},
   "outputs": [
    {
     "data": {
      "text/html": [
       "<div>\n",
       "<style scoped>\n",
       "    .dataframe tbody tr th:only-of-type {\n",
       "        vertical-align: middle;\n",
       "    }\n",
       "\n",
       "    .dataframe tbody tr th {\n",
       "        vertical-align: top;\n",
       "    }\n",
       "\n",
       "    .dataframe thead th {\n",
       "        text-align: right;\n",
       "    }\n",
       "</style>\n",
       "<table border=\"1\" class=\"dataframe\">\n",
       "  <thead>\n",
       "    <tr style=\"text-align: right;\">\n",
       "      <th></th>\n",
       "      <th>Sub-Category</th>\n",
       "      <th>Profit</th>\n",
       "    </tr>\n",
       "  </thead>\n",
       "  <tbody>\n",
       "    <tr>\n",
       "      <th>0</th>\n",
       "      <td>Tables</td>\n",
       "      <td>2406</td>\n",
       "    </tr>\n",
       "  </tbody>\n",
       "</table>\n",
       "</div>"
      ],
      "text/plain": [
       "  Sub-Category  Profit\n",
       "0       Tables    2406"
      ]
     },
     "execution_count": 27,
     "metadata": {},
     "output_type": "execute_result"
    }
   ],
   "source": [
    "germany = shop[(shop['Country'] == \"Germany\") & (shop['Order Date'].dt.year == 2018)].copy()\n",
    "germany['Order Date'] = germany['Order Date'].dt.month\n",
    "\n",
    "top_cities = top_city.merge(germany, on = 'City', how = 'inner')\n",
    "top_cities.groupby('Sub-Category')['Profit'].sum().sort_values(ascending=False).head(1).reset_index() # Самая прибыльная подкатегория этого города"
   ]
  },
  {
   "cell_type": "markdown",
   "id": "1ed4b54a-f839-46dd-9a27-08d422d99c65",
   "metadata": {},
   "source": [
    "5. В каком сегменте покупателей наиболее распространена доставка типа \"Economy\""
   ]
  },
  {
   "cell_type": "code",
   "execution_count": 29,
   "id": "43f447d7-1bc8-4353-862b-03a491746b39",
   "metadata": {},
   "outputs": [
    {
     "data": {
      "text/html": [
       "<div>\n",
       "<style scoped>\n",
       "    .dataframe tbody tr th:only-of-type {\n",
       "        vertical-align: middle;\n",
       "    }\n",
       "\n",
       "    .dataframe tbody tr th {\n",
       "        vertical-align: top;\n",
       "    }\n",
       "\n",
       "    .dataframe thead th {\n",
       "        text-align: right;\n",
       "    }\n",
       "</style>\n",
       "<table border=\"1\" class=\"dataframe\">\n",
       "  <thead>\n",
       "    <tr style=\"text-align: right;\">\n",
       "      <th></th>\n",
       "      <th>Ship Mode</th>\n",
       "      <th>Segment</th>\n",
       "      <th>count</th>\n",
       "    </tr>\n",
       "  </thead>\n",
       "  <tbody>\n",
       "    <tr>\n",
       "      <th>0</th>\n",
       "      <td>Economy</td>\n",
       "      <td>Consumer</td>\n",
       "      <td>74</td>\n",
       "    </tr>\n",
       "  </tbody>\n",
       "</table>\n",
       "</div>"
      ],
      "text/plain": [
       "  Ship Mode   Segment  count\n",
       "0   Economy  Consumer     74"
      ]
     },
     "execution_count": 29,
     "metadata": {},
     "output_type": "execute_result"
    }
   ],
   "source": [
    "germany = shop[(shop['Country'] == \"Germany\") & (shop['Order Date'].dt.year == 2018) & (shop['Ship Mode'] == 'Economy')]\n",
    "germany.groupby('Ship Mode')['Segment'].value_counts().head(1).reset_index()"
   ]
  },
  {
   "cell_type": "markdown",
   "id": "0a60228f-2ea6-4611-9c6f-9e52bda5c5f7",
   "metadata": {},
   "source": [
    "6. Какие категории товаров дают самых ценных потребителей? Какие группы клиентов приносят наибольшую прибыль?"
   ]
  },
  {
   "cell_type": "code",
   "execution_count": 31,
   "id": "8f1677a6-0441-4a15-8f99-8a0a8ede7f83",
   "metadata": {},
   "outputs": [
    {
     "data": {
      "text/html": [
       "<div>\n",
       "<style scoped>\n",
       "    .dataframe tbody tr th:only-of-type {\n",
       "        vertical-align: middle;\n",
       "    }\n",
       "\n",
       "    .dataframe tbody tr th {\n",
       "        vertical-align: top;\n",
       "    }\n",
       "\n",
       "    .dataframe thead th {\n",
       "        text-align: right;\n",
       "    }\n",
       "</style>\n",
       "<table border=\"1\" class=\"dataframe\">\n",
       "  <thead>\n",
       "    <tr style=\"text-align: right;\">\n",
       "      <th></th>\n",
       "      <th>Category</th>\n",
       "      <th>Profit</th>\n",
       "    </tr>\n",
       "  </thead>\n",
       "  <tbody>\n",
       "    <tr>\n",
       "      <th>0</th>\n",
       "      <td>Furniture</td>\n",
       "      <td>16840</td>\n",
       "    </tr>\n",
       "    <tr>\n",
       "      <th>1</th>\n",
       "      <td>Office Supplies</td>\n",
       "      <td>7315</td>\n",
       "    </tr>\n",
       "    <tr>\n",
       "      <th>2</th>\n",
       "      <td>Technology</td>\n",
       "      <td>7830</td>\n",
       "    </tr>\n",
       "  </tbody>\n",
       "</table>\n",
       "</div>"
      ],
      "text/plain": [
       "          Category  Profit\n",
       "0        Furniture   16840\n",
       "1  Office Supplies    7315\n",
       "2       Technology    7830"
      ]
     },
     "execution_count": 31,
     "metadata": {},
     "output_type": "execute_result"
    }
   ],
   "source": [
    "# Какие категории товаров дают самых ценных потребителей\n",
    "germany = shop[(shop['Country'] == \"Germany\") & (shop['Order Date'].dt.year == 2018)].copy()\n",
    "germany.groupby('Category')['Profit'].sum().reset_index()"
   ]
  },
  {
   "cell_type": "code",
   "execution_count": 32,
   "id": "3ab5b0b6-1ca2-4d51-bcd0-e6b186683866",
   "metadata": {},
   "outputs": [
    {
     "data": {
      "text/html": [
       "<div>\n",
       "<style scoped>\n",
       "    .dataframe tbody tr th:only-of-type {\n",
       "        vertical-align: middle;\n",
       "    }\n",
       "\n",
       "    .dataframe tbody tr th {\n",
       "        vertical-align: top;\n",
       "    }\n",
       "\n",
       "    .dataframe thead th {\n",
       "        text-align: right;\n",
       "    }\n",
       "</style>\n",
       "<table border=\"1\" class=\"dataframe\">\n",
       "  <thead>\n",
       "    <tr style=\"text-align: right;\">\n",
       "      <th></th>\n",
       "      <th>Segment</th>\n",
       "      <th>Profit</th>\n",
       "    </tr>\n",
       "  </thead>\n",
       "  <tbody>\n",
       "    <tr>\n",
       "      <th>0</th>\n",
       "      <td>Consumer</td>\n",
       "      <td>20505</td>\n",
       "    </tr>\n",
       "    <tr>\n",
       "      <th>1</th>\n",
       "      <td>Corporate</td>\n",
       "      <td>7230</td>\n",
       "    </tr>\n",
       "    <tr>\n",
       "      <th>2</th>\n",
       "      <td>Home Office</td>\n",
       "      <td>4250</td>\n",
       "    </tr>\n",
       "  </tbody>\n",
       "</table>\n",
       "</div>"
      ],
      "text/plain": [
       "       Segment  Profit\n",
       "0     Consumer   20505\n",
       "1    Corporate    7230\n",
       "2  Home Office    4250"
      ]
     },
     "execution_count": 32,
     "metadata": {},
     "output_type": "execute_result"
    }
   ],
   "source": [
    "# Какие группы клиентов приносят наибольшую прибыль\n",
    "top_segment = germany.groupby('Segment')['Profit'].sum().reset_index()\n",
    "top_segment"
   ]
  },
  {
   "cell_type": "code",
   "execution_count": 33,
   "id": "93b894a5-4dbc-4658-b4f7-2ff2962684f0",
   "metadata": {},
   "outputs": [
    {
     "data": {
      "text/plain": [
       "56.04"
      ]
     },
     "execution_count": 33,
     "metadata": {},
     "output_type": "execute_result"
    }
   ],
   "source": [
    "# Сколько процентов от всех потребителей составляют частные потребилтели - самая прибыльная группа\n",
    "top_consumer =  germany['Segment'].value_counts().reset_index()\n",
    "top_count = top_consumer['count'].sum()\n",
    "round((top_consumer.loc[0, 'count'] / top_count) * 100, 2)"
   ]
  },
  {
   "cell_type": "code",
   "execution_count": 34,
   "id": "252cfead-2b99-4546-b3d5-9547a978ca58",
   "metadata": {},
   "outputs": [
    {
     "data": {
      "text/plain": [
       "64.11"
      ]
     },
     "execution_count": 34,
     "metadata": {},
     "output_type": "execute_result"
    }
   ],
   "source": [
    "# Сколько процентов от всех прибыли составляет прибыль от частных потребителей\n",
    "top_value = germany['Profit'].sum()\n",
    "round((top_segment.loc[0, 'Profit'] / top_value) * 100, 2)"
   ]
  },
  {
   "cell_type": "markdown",
   "id": "bf99c43d-b643-4153-9c4f-ef0ab5fe275a",
   "metadata": {},
   "source": [
    "7. Выводы работы (то же самое, что и в файле с PostgreSQL)"
   ]
  },
  {
   "cell_type": "markdown",
   "id": "2e4241ee-85d6-44dc-a3f7-a3dad2189d21",
   "metadata": {},
   "source": [
    "1. Самыми прибыльными городами Германии в 2018 году являются Берлин, Гамбург, Нюрнберг, Мюнхен. Это связано с большими размерами городов и их населением, вследствие чего количество заказов и выручка там находятся на высоких позициях. Так что результаты вполне ожидаемы.\n",
    "\n",
    "    Что же касается наименее прибыльных городов, то худшее положение у Дрездена. Хоть город является большим по площади и населению, количество заказов и прибыль крайне малы. Для выявления причины такого маленького спроса на товары можно изучить, на что ориентирован город в большей степени (некоторые города могут быть заточены на какую-то конкретную функцию: город для предпринимателей, IT-специалистов, торговый город и прочее. Гамбург, например, является важным торговым портовым городом Германии). Возможно, товары, которые мы продаём, просто не востребованы в Дрездене.\n",
    "    !!!Хотя, скорее всего, в нашем случае это мало вероятно, так как наши товары влючают в себя телефоны, стулья, столы и прочие вещи, которыми пользуются все и везде!!!\n",
    "\n",
    "   Если же наши товары нужны в этом городе, то нужно провести маркетинговую кампанию в городе и изучить конкурентов (цены, маркетинг, качество)\n",
    "   \n",
    "2. Самыми популярными товарами являются телефоны, книжные полки и стулья. А в топе городов по продажам этих товаров чаще всего встречается Берлин и Мюнхен - два крупных города, один из которых является столицей. Так что и эти результаты вполне ожидаемы."
   ]
  },
  {
   "cell_type": "markdown",
   "id": "1548379d-45dd-454c-9897-4c6af35823b1",
   "metadata": {},
   "source": [
    "4. Самым прибыльным месяцем является Август, самый прибыльный город в Августе - Нюрнберг с прибылью 2406. Самый продаваемый товар Нюрнберга в Августе - столы с прибылью от продаж 2406, что означает следующее: столы были единственным товаром, который продавался нашей компанией в Нюрнберге в 2018 году в Августе\n",
    "\n",
    "5. Доставка типа \"Economy\" наиболее распространена среди частных потребителей. Скорее всего, это связано с тем, что физические лица не хотят доплачивать деньги за более быструю доставку в отличие от офисов.\n",
    "\n",
    "6. Частные потребители (физические лица) оказались самой прибыльной категорией потребителей. А самой прибыльной группой товаров оказалась мебель. Логично предположить, что эти две группы дополняют друг друга (простым людям в большинстве случаев нужна мебель, а не офисные принадлежности)\n",
    "\n",
    "    Кроме того, было выявлено, что 56% всех потребителей составляют физические лица, на которых приходится 64% всей прибыли"
   ]
  },
  {
   "cell_type": "code",
   "execution_count": null,
   "id": "520a3102-ac59-43f0-99d1-47bdfd2f7b9a",
   "metadata": {},
   "outputs": [],
   "source": []
  }
 ],
 "metadata": {
  "kernelspec": {
   "display_name": "Python [conda env:base] *",
   "language": "python",
   "name": "conda-base-py"
  },
  "language_info": {
   "codemirror_mode": {
    "name": "ipython",
    "version": 3
   },
   "file_extension": ".py",
   "mimetype": "text/x-python",
   "name": "python",
   "nbconvert_exporter": "python",
   "pygments_lexer": "ipython3",
   "version": "3.12.7"
  }
 },
 "nbformat": 4,
 "nbformat_minor": 5
}
